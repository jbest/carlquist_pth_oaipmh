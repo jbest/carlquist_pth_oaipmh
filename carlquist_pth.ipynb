{
 "cells": [
  {
   "cell_type": "code",
   "execution_count": 2,
   "id": "7e136fb4-f82b-4ace-9012-af08a8099ac0",
   "metadata": {},
   "outputs": [],
   "source": [
    "from sickle import Sickle\n",
    "import xml.etree.ElementTree as ET\n",
    "import pprint\n",
    "\n",
    "sickle = Sickle('https://texashistory.unt.edu/oai')\n",
    "#records = sickle.ListRecords(metadataPrefix='oai_dc')"
   ]
  },
  {
   "cell_type": "code",
   "execution_count": 121,
   "id": "fc46680e-1232-4369-a930-00a16bf88240",
   "metadata": {},
   "outputs": [],
   "source": [
    "# other metadata formats:\n",
    "#untl - 2159\n",
    "# oai_dc - 2157\n",
    "# untl_raw - 2159\n",
    "# untl_dpla - 2159\n",
    "# rdf - 2159\n",
    "\n",
    "records = sickle.ListRecords(metadataPrefix='oai_dc', set='collection:SJCC')"
   ]
  },
  {
   "cell_type": "code",
   "execution_count": 10,
   "id": "4fc9b257-c82b-49b3-8268-1b4950ee7137",
   "metadata": {},
   "outputs": [
    {
     "data": {
      "text/plain": [
       "<Record info:ark/67531/metapth1634318>"
      ]
     },
     "execution_count": 10,
     "metadata": {},
     "output_type": "execute_result"
    }
   ],
   "source": [
    "#records.next()"
   ]
  },
  {
   "cell_type": "code",
   "execution_count": 50,
   "id": "9afbf868-c713-4abc-a233-6b0af47ecde0",
   "metadata": {
    "scrolled": true
   },
   "outputs": [
    {
     "name": "stdout",
     "output_type": "stream",
     "text": [
      "2159\n"
     ]
    }
   ],
   "source": [
    "# count of records\n",
    "print(sum(1 for e in records))"
   ]
  },
  {
   "cell_type": "code",
   "execution_count": 122,
   "id": "e49ac8be-846e-4f87-9415-b7287a64f38f",
   "metadata": {
    "scrolled": true
   },
   "outputs": [
    {
     "ename": "SyntaxError",
     "evalue": "invalid syntax (224100649.py, line 17)",
     "output_type": "error",
     "traceback": [
      "\u001b[0;36m  Cell \u001b[0;32mIn[122], line 17\u001b[0;36m\u001b[0m\n\u001b[0;31m    format record.metadata.get('format')\u001b[0m\n\u001b[0m           ^\u001b[0m\n\u001b[0;31mSyntaxError\u001b[0m\u001b[0;31m:\u001b[0m invalid syntax\n"
     ]
    }
   ],
   "source": [
    "rec_count = 0\n",
    "relation_count = 0\n",
    "for record in records:\n",
    "    #print(record.metadata)\n",
    "    rec_count += 1\n",
    "    # get ARC\n",
    "    rec_identifier = record.header.identifier\n",
    "    arc = rec_identifier.split(':')[1]\n",
    "    print(arc)\n",
    "    metadata = record.metadata\n",
    "    title = record.metadata.get('title')\n",
    "    creator = record.metadata.get('creator')\n",
    "    subject = record.metadata.get('subject')\n",
    "    description = record.metadata.get('description')\n",
    "    date = record.metadata.get('date')\n",
    "    type = record.metadata.get('type')\n",
    "    format record.metadata.get('format')\n",
    "    identifier = record.metadata.get('identifier')\n",
    "    coverage = record.metadata.get('coverage')\n",
    "    relation = record.metadata.get('relation')\n",
    "    xml_str = ET.tostring(record.xml, encoding='unicode')\n",
    "    \n",
    "    if relation:\n",
    "        relation_count += 1\n",
    "        relation_string = relation[0]\n",
    "        #pprint.pprint(record.header)\n",
    "        if 'same individual' in relation_string:\n",
    "            relation_type = 'specimen'\n",
    "        elif 'population' in relation_string:\n",
    "            relation_type = 'population'\n",
    "        else:\n",
    "            relation_type = 'undefined'\n",
    "        print(record.metadata.get('relation'), relation_type)\n",
    "\n",
    "print('rec_count', rec_count)\n",
    "print('relation_count', relation_count)"
   ]
  },
  {
   "cell_type": "code",
   "execution_count": 43,
   "id": "3fe485b7-d9fb-462c-ab67-6261fd15cfe5",
   "metadata": {},
   "outputs": [],
   "source": [
    "# one record\n",
    "one_rec = sickle.GetRecord(identifier='info:ark/67531/metapth1634321', metadataPrefix='oai_dc')"
   ]
  },
  {
   "cell_type": "code",
   "execution_count": 44,
   "id": "cd195256-f8a3-4edb-9672-b38288e81606",
   "metadata": {},
   "outputs": [
    {
     "name": "stdout",
     "output_type": "stream",
     "text": [
      "<record xmlns=\"http://www.openarchives.org/OAI/2.0/\" xmlns:xsi=\"http://www.w3.org/2001/XMLSchema-instance\"><header><identifier>info:ark/67531/metapth1634321</identifier><datestamp>2024-08-26T12:35:29Z</datestamp><setSpec>partner:BRIT</setSpec><setSpec>collection:SJCC</setSpec><setSpec>access_rights:public</setSpec></header><metadata><oai_dc:dc xmlns:oai_dc=\"http://www.openarchives.org/OAI/2.0/oai_dc/\" xmlns:dc=\"http://purl.org/dc/elements/1.1/\" xsi:schemaLocation=\"http://purl.org/dc/elements/1.1/ http://www.openarchives.org/OAI/2.0/oai_dc.xsd\"><dc:title>[Emu in Australia]</dc:title><dc:creator>Carlquist, Sherwin John, 1930-2021</dc:creator><dc:subject>Scientific expeditions</dc:subject><dc:subject>Landscape and Nature - Wildlife</dc:subject><dc:subject>color slides</dc:subject><dc:subject>animals</dc:subject><dc:subject>fieldwork</dc:subject><dc:subject>field expeditions</dc:subject><dc:description>Photograph of an emu in Australia. The emu is brown with a dark head and is facing the left. The emu has lush feathers and is standing on dirt.</dc:description><dc:date>1962</dc:date><dc:type>Photograph</dc:type><dc:format>1 photograph : positive, col. ; 35 mm.</dc:format><dc:format>Image</dc:format><dc:identifier>local-cont-no: BRIT-A-AR003-002-01-010</dc:identifier><dc:identifier>https://texashistory.unt.edu/ark:/67531/metapth1634321/</dc:identifier><dc:identifier>ark: ark:/67531/metapth1634321</dc:identifier><dc:language>No Language</dc:language><dc:coverage>1962</dc:coverage><dc:coverage>Into Modern Times, 1939-Present</dc:coverage><dc:coverage>Australia</dc:coverage><dc:rights>Attribution</dc:rights></oai_dc:dc></metadata></record>\n"
     ]
    }
   ],
   "source": [
    "print(one_rec)"
   ]
  },
  {
   "cell_type": "code",
   "execution_count": null,
   "id": "298ed650-3350-41b7-b3b2-628c216a3faf",
   "metadata": {},
   "outputs": [],
   "source": []
  }
 ],
 "metadata": {
  "kernelspec": {
   "display_name": "Python 3 (ipykernel)",
   "language": "python",
   "name": "python3"
  },
  "language_info": {
   "codemirror_mode": {
    "name": "ipython",
    "version": 3
   },
   "file_extension": ".py",
   "mimetype": "text/x-python",
   "name": "python",
   "nbconvert_exporter": "python",
   "pygments_lexer": "ipython3",
   "version": "3.11.2"
  }
 },
 "nbformat": 4,
 "nbformat_minor": 5
}
