{
 "cells": [
  {
   "cell_type": "markdown",
   "id": "11125f17-b508-4fad-8304-bc7b655518b0",
   "metadata": {},
   "source": [
    "# Sherwin Carlquist Collection - record retrieval"
   ]
  },
  {
   "cell_type": "markdown",
   "id": "f34ff660-f19f-4399-a089-25ea8f7af3f1",
   "metadata": {},
   "source": [
    "This script retrieves public records of the Sherwin Carlquist Collection (SJCC) on the Portal to Texas History. Various fields and values are extracted and saved to a CSV file. This CSV file can be uploaded to a collection in Symbiota using the Extended Data Importer (see https://biokic.github.io/symbiota-docs/coll_manager/upload/links/)."
   ]
  },
  {
   "cell_type": "code",
   "execution_count": 4,
   "id": "d1108b3f-0b0a-4d5c-bdf1-6711a54c2886",
   "metadata": {
    "scrolled": true
   },
   "outputs": [],
   "source": [
    "# Run this line if using cloud notebook like Google Colab\n",
    "!pip install sickle"
   ]
  },
  {
   "cell_type": "code",
   "execution_count": 12,
   "id": "7e136fb4-f82b-4ace-9012-af08a8099ac0",
   "metadata": {},
   "outputs": [],
   "source": [
    "import re\n",
    "\n",
    "from sickle import Sickle\n",
    "import pandas as pd\n",
    "\n",
    "# static values for relationship records\n",
    "accordingTo = 'TBD'\n",
    "basisOfRecord = 'TBD' #Not sure how/if we'll use this \n",
    "\n",
    "# change to False if you want all PTH records, even if there are no relationships indicated\n",
    "relationships_only = True\n",
    "\n",
    "# URL regex pattern\n",
    "url_pattern = re.compile(r\"(http(s)?:\\/\\/.)?(www\\.)?[-a-zA-Z0-9@:%._\\+~#=]{2,256}\\.[a-z]{2,6}\\b([-a-zA-Z0-9@:%_\\+.~#?&//=]*)\")\n",
    "# OCCID regex pattern\n",
    "occid_pattern = re.compile(r'occid=(?P<occid>\\d+)')\n",
    "# RSA catalogNumber pattern\n",
    "# TODO adapt RSA regex to work with wood and other catalog number formats\n",
    "rsa_catnum_pattern = re.compile(r'RSA\\d+')"
   ]
  },
  {
   "cell_type": "code",
   "execution_count": 13,
   "id": "fc46680e-1232-4369-a930-00a16bf88240",
   "metadata": {},
   "outputs": [],
   "source": [
    "sickle = Sickle('https://texashistory.unt.edu/oai')\n",
    "records = sickle.ListRecords(metadataPrefix='oai_dc', set='collection:SJCC')"
   ]
  },
  {
   "cell_type": "code",
   "execution_count": 14,
   "id": "e49ac8be-846e-4f87-9415-b7287a64f38f",
   "metadata": {
    "scrolled": true
   },
   "outputs": [
    {
     "name": "stdout",
     "output_type": "stream",
     "text": [
      "rec_count 2963\n",
      "relation_count 103\n"
     ]
    }
   ],
   "source": [
    "rec_count = 0\n",
    "relation_count = 0\n",
    "\n",
    "data = []\n",
    "for record in records:\n",
    "    rec_count += 1\n",
    "    # get ARK\n",
    "    rec_identifier = record.header.identifier\n",
    "    ark = rec_identifier.split(':')[1]\n",
    "    #PTH URL\n",
    "    resourceUrl = 'https://texashistory.unt.edu/' + ark\n",
    "    #metadata = record.metadata\n",
    "    #format = record.metadata.get('format')\n",
    "    #description = record.metadata.get('description')\n",
    "    #xml_str = ET.tostring(record.xml, encoding='unicode')\n",
    "    title = record.metadata.get('title')\n",
    "    subject = record.metadata.get('subject')\n",
    "    date = record.metadata.get('date')\n",
    "    type = record.metadata.get('type')\n",
    "    identifier = record.metadata.get('identifier')\n",
    "    relation = record.metadata.get('relation')\n",
    "    \n",
    "    if relation:\n",
    "        relation_count += 1\n",
    "        relation_string = relation[0]\n",
    "        # extract relation_url\n",
    "        url_match = url_pattern.search(relation_string)\n",
    "        # extract RSA catalog number\n",
    "        rsa_catnum_match = rsa_catnum_pattern.search(relation_string)\n",
    "        if rsa_catnum_match:\n",
    "            catalogNumber = rsa_catnum_match[0]\n",
    "        else:\n",
    "            catalogNumber = None\n",
    "        if url_match:\n",
    "            relation_url = url_match[0]\n",
    "            #OCCID\n",
    "            occid_match = occid_pattern.search(relation_url)\n",
    "            if occid_match:\n",
    "                occid = occid_match.group('occid')\n",
    "            else:\n",
    "                occid = None\n",
    "        else:\n",
    "            relation_url = None\n",
    "            \n",
    "        if 'same individual' in relation_string:\n",
    "            relation_type = 'specimen'\n",
    "        elif 'population' in relation_string:\n",
    "            relation_type = 'population'\n",
    "        else:\n",
    "            relation_type = 'undefined'\n",
    "\n",
    "    else:\n",
    "        relation_type = None\n",
    "        relation_url = None\n",
    "\n",
    "    brit_id = None\n",
    "    for id in identifier:\n",
    "        if 'local-cont-no' in id:\n",
    "            brit_id_kv = id.split(':')\n",
    "            brit_id = brit_id_kv[1].strip()\n",
    "\n",
    "    #TODO - add accordingTo when that value is determined\n",
    "    # occurrenceID isn't avialable in URL, only OCCID. \n",
    "    # May need to extract catalog number from relation string\n",
    "    if relationships_only:\n",
    "        if relation:\n",
    "            data.append({'catalogNumber': catalogNumber, 'occid': occid, 'objectID': brit_id, 'resourceUrl': resourceUrl, 'ark': ark, 'title': title, 'date': date,  'relation': relation, 'relation_url': relation_url, 'relation_type': relation_type })\n",
    "    else:\n",
    "        data.append({'catalogNumber': catalogNumber, 'occid': occid, 'objectID': brit_id, 'resourceUrl': resourceUrl, 'ark': ark, 'title': title, 'date': date,  'relation': relation, 'relation_url': relation_url, 'relation_type': relation_type })\n",
    "\n",
    "print('rec_count', rec_count)\n",
    "print('relation_count', relation_count)\n"
   ]
  },
  {
   "cell_type": "code",
   "execution_count": 16,
   "id": "8390fc92-d831-412f-bbe5-0b753c51cf36",
   "metadata": {},
   "outputs": [
    {
     "name": "stdout",
     "output_type": "stream",
     "text": [
      "Results saved to: sjcc_relations.csv\n",
      "File output stored in the same directory as this notebook\n"
     ]
    }
   ],
   "source": [
    "# convert list to dataframe\n",
    "df = pd.DataFrame(data)\n",
    "\n",
    "if relationships_only:\n",
    "    filename = 'sjcc_relations.csv'\n",
    "else:\n",
    "    filename = 'sjcc_all.csv'\n",
    "\n",
    "df.to_csv(filename, index=False)\n",
    "print('Results saved to:', filename)\n",
    "\n",
    "import os\n",
    "# test if running in Google Colab\n",
    "if os.getenv(\"COLAB_RELEASE_TAG\"):\n",
    "    print('File output is stored in the Colab filesystem accessible in the File pane to the left')\n",
    "else:\n",
    "    print('File output stored in the same directory as this notebook')"
   ]
  },
  {
   "cell_type": "code",
   "execution_count": null,
   "id": "040afef8-cabd-42ee-9cd5-dc72fc3e9ee3",
   "metadata": {},
   "outputs": [],
   "source": []
  }
 ],
 "metadata": {
  "kernelspec": {
   "display_name": "Python 3 (ipykernel)",
   "language": "python",
   "name": "python3"
  },
  "language_info": {
   "codemirror_mode": {
    "name": "ipython",
    "version": 3
   },
   "file_extension": ".py",
   "mimetype": "text/x-python",
   "name": "python",
   "nbconvert_exporter": "python",
   "pygments_lexer": "ipython3",
   "version": "3.11.2"
  }
 },
 "nbformat": 4,
 "nbformat_minor": 5
}
