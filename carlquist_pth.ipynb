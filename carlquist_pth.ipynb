{
 "cells": [
  {
   "cell_type": "markdown",
   "id": "11125f17-b508-4fad-8304-bc7b655518b0",
   "metadata": {},
   "source": [
    "# Sherwin Carlquist Collection - record retrieval"
   ]
  },
  {
   "cell_type": "markdown",
   "id": "f34ff660-f19f-4399-a089-25ea8f7af3f1",
   "metadata": {},
   "source": [
    "This script retrieves public records of the Sherwin Carlquist Collection (SJCC) on the Portal to Texas History. Various fields and values are extracted and saved to a CSV file."
   ]
  },
  {
   "cell_type": "code",
   "execution_count": 1,
   "id": "7e136fb4-f82b-4ace-9012-af08a8099ac0",
   "metadata": {},
   "outputs": [],
   "source": [
    "import re\n",
    "\n",
    "from sickle import Sickle\n",
    "import xml.etree.ElementTree as ET\n",
    "import pprint\n",
    "import pandas as pd\n",
    "\n",
    "sickle = Sickle('https://texashistory.unt.edu/oai')\n",
    "#records = sickle.ListRecords(metadataPrefix='oai_dc')"
   ]
  },
  {
   "cell_type": "code",
   "execution_count": 2,
   "id": "fc46680e-1232-4369-a930-00a16bf88240",
   "metadata": {},
   "outputs": [],
   "source": [
    "# other metadata formats:\n",
    "# initiall some counts were different but that changed after a few queries\n",
    "#untl - 2159\n",
    "# oai_dc - 2157\n",
    "# untl_raw - 2159\n",
    "# untl_dpla - 2159\n",
    "# rdf - 2159\n",
    "\n",
    "records = sickle.ListRecords(metadataPrefix='oai_dc', set='collection:SJCC')"
   ]
  },
  {
   "cell_type": "code",
   "execution_count": 3,
   "id": "d7683798-51f7-4eba-bc9a-af2d9aa70170",
   "metadata": {},
   "outputs": [],
   "source": [
    "relationships_only = True"
   ]
  },
  {
   "cell_type": "code",
   "execution_count": 4,
   "id": "e49ac8be-846e-4f87-9415-b7287a64f38f",
   "metadata": {
    "scrolled": true
   },
   "outputs": [
    {
     "name": "stdout",
     "output_type": "stream",
     "text": [
      "rec_count 2738\n",
      "relation_count 100\n"
     ]
    }
   ],
   "source": [
    "rec_count = 0\n",
    "relation_count = 0\n",
    "# set up URL regex\n",
    "url_pattern = re.compile(r\"(http(s)?:\\/\\/.)?(www\\.)?[-a-zA-Z0-9@:%._\\+~#=]{2,256}\\.[a-z]{2,6}\\b([-a-zA-Z0-9@:%_\\+.~#?&//=]*)\")\n",
    "\n",
    "data = []\n",
    "for record in records:\n",
    "    #print(record.header)\n",
    "    rec_count += 1\n",
    "    # get ARK\n",
    "    rec_identifier = record.header.identifier\n",
    "    ark = rec_identifier.split(':')[1]\n",
    "    pth_url = 'https://texashistory.unt.edu/' + ark\n",
    "    metadata = record.metadata\n",
    "    title = record.metadata.get('title')\n",
    "    #creator = record.metadata.get('creator')\n",
    "    subject = record.metadata.get('subject')\n",
    "    description = record.metadata.get('description')\n",
    "    date = record.metadata.get('date')\n",
    "    type = record.metadata.get('type')\n",
    "    format = record.metadata.get('format')\n",
    "    identifier = record.metadata.get('identifier')\n",
    "    #coverage = record.metadata.get('coverage')\n",
    "    relation = record.metadata.get('relation')\n",
    "    xml_str = ET.tostring(record.xml, encoding='unicode')\n",
    "    \n",
    "    if relation:\n",
    "        relation_count += 1\n",
    "        #print(relation)\n",
    "        relation_string = relation[0]\n",
    "        #relation_url\n",
    "        url_match = url_pattern.search(relation_string)\n",
    "        if url_match:\n",
    "            relation_url = url_match[0]\n",
    "        else:\n",
    "            relation_url = None\n",
    "        #pprint.pprint(record.header)\n",
    "        if 'same individual' in relation_string:\n",
    "            relation_type = 'specimen'\n",
    "        elif 'population' in relation_string:\n",
    "            relation_type = 'population'\n",
    "        else:\n",
    "            relation_type = 'undefined'\n",
    "        #print(relation_string, relation_type)\n",
    "    else:\n",
    "        #print('no relation')\n",
    "        relation_type = None\n",
    "        relation_url = None\n",
    "    #print('relation_type:', relation_type)\n",
    "\n",
    "    brit_id = None\n",
    "    for id in identifier:\n",
    "        #print(id)\n",
    "        if 'local-cont-no' in id:\n",
    "            brit_id_kv = id.split(':')\n",
    "            brit_id = brit_id_kv[1].strip()\n",
    "            #print(brit_id)\n",
    "    # add row\n",
    "    # intermediate detail\n",
    "    # data.append({'rec_identifier': rec_identifier, 'ark': ark, 'metadata': metadata, 'title': title, 'subject': subject, 'description': description, 'date': date, 'type': type, 'format': format, 'identifiers': identifier, 'relation': relation, 'xml_str': xml_str})\n",
    "    # simple detail\n",
    "    data.append({'brit_id': brit_id, 'pth_url': pth_url, 'ark': ark, 'title': title, 'date': date,  'relation': relation, 'relation_url': relation_url, 'relation_type': relation_type })\n",
    "\n",
    "\n",
    "\n",
    "# convert list to dataframe\n",
    "df = pd.DataFrame(data)\n",
    "\n",
    "        \n",
    "print('rec_count', rec_count)\n",
    "print('relation_count', relation_count)"
   ]
  },
  {
   "cell_type": "code",
   "execution_count": 5,
   "id": "8390fc92-d831-412f-bbe5-0b753c51cf36",
   "metadata": {},
   "outputs": [],
   "source": [
    "df.to_csv('sjcc_all.csv', index=False)"
   ]
  },
  {
   "cell_type": "raw",
   "id": "b05756a9-5bb2-4c8e-b4b5-fd8ccef8b0e7",
   "metadata": {},
   "source": [
    "# one record\n",
    "one_rec = sickle.GetRecord(identifier='info:ark/67531/metapth1634321', metadataPrefix='oai_dc')"
   ]
  }
 ],
 "metadata": {
  "kernelspec": {
   "display_name": "Python 3 (ipykernel)",
   "language": "python",
   "name": "python3"
  },
  "language_info": {
   "codemirror_mode": {
    "name": "ipython",
    "version": 3
   },
   "file_extension": ".py",
   "mimetype": "text/x-python",
   "name": "python",
   "nbconvert_exporter": "python",
   "pygments_lexer": "ipython3",
   "version": "3.11.2"
  }
 },
 "nbformat": 4,
 "nbformat_minor": 5
}
