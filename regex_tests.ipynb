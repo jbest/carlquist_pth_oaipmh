{
 "cells": [
  {
   "cell_type": "code",
   "execution_count": 2,
   "id": "b682af86-9679-495f-a000-e80ac126f992",
   "metadata": {},
   "outputs": [],
   "source": [
    "import re"
   ]
  },
  {
   "cell_type": "code",
   "execution_count": 4,
   "id": "9d329347-3ffb-4a0b-88d2-7f7a9d97e336",
   "metadata": {},
   "outputs": [],
   "source": [
    "p1 = re.compile(r\"(http(s)?:\\/\\/.)?(www\\.)?[-a-zA-Z0-9@:%._\\+~#=]{2,256}\\.[a-z]{2,6}\\b([-a-zA-Z0-9@:%_\\+.~#?&//=]*)\")\n",
    "p2 = re.compile('Botanic')\n",
    "p3 = re.compile('(2730)?')\n",
    "#p_occid = re.compile(r'occid=\\d+')"
   ]
  },
  {
   "cell_type": "code",
   "execution_count": 29,
   "id": "d0b85e31-2ce9-40f2-acbd-4185a3249311",
   "metadata": {},
   "outputs": [],
   "source": [
    "test_string = 'California Botanic Garden: specimen RSA2730, https://www.cch2.org/portal/collections/individual/index.php?occid=5564148&clid=0'"
   ]
  },
  {
   "cell_type": "code",
   "execution_count": 6,
   "id": "37203ec4-c058-4186-8a6f-fcf6b21d2ece",
   "metadata": {},
   "outputs": [
    {
     "data": {
      "text/plain": [
       "re.compile(r'(http(s)?:\\/\\/.)?(www\\.)?[-a-zA-Z0-9@:%._\\+~#=]{2,256}\\.[a-z]{2,6}\\b([-a-zA-Z0-9@:%_\\+.~#?&//=]*)',\n",
       "           re.UNICODE)"
      ]
     },
     "execution_count": 6,
     "metadata": {},
     "output_type": "execute_result"
    }
   ],
   "source": [
    "p1"
   ]
  },
  {
   "cell_type": "code",
   "execution_count": 7,
   "id": "91a725b6-795c-4943-aeb3-1c7544f78012",
   "metadata": {},
   "outputs": [
    {
     "data": {
      "text/plain": [
       "re.compile(r'Botanic', re.UNICODE)"
      ]
     },
     "execution_count": 7,
     "metadata": {},
     "output_type": "execute_result"
    }
   ],
   "source": [
    "p2"
   ]
  },
  {
   "cell_type": "code",
   "execution_count": 8,
   "id": "c7d73e53-4daa-4e83-be05-d90dea5ea9d6",
   "metadata": {},
   "outputs": [],
   "source": [
    "p1m = p1.search(test_string)"
   ]
  },
  {
   "cell_type": "code",
   "execution_count": 9,
   "id": "dd5585ea-f20b-44d7-adb1-9995e988db52",
   "metadata": {},
   "outputs": [
    {
     "data": {
      "text/plain": [
       "'https://www.cch2.org/portal/collections/individual/index.php?occid=5564148&clid=0'"
      ]
     },
     "execution_count": 9,
     "metadata": {},
     "output_type": "execute_result"
    }
   ],
   "source": [
    "p1m[0]"
   ]
  },
  {
   "cell_type": "code",
   "execution_count": 10,
   "id": "33932002-3ae0-4beb-ae39-80978c46d3cb",
   "metadata": {},
   "outputs": [
    {
     "name": "stdout",
     "output_type": "stream",
     "text": [
      "<re.Match object; span=(42, 123), match='https://www.cch2.org/portal/collections/individua>\n"
     ]
    }
   ],
   "source": [
    "print(p1m)"
   ]
  },
  {
   "cell_type": "code",
   "execution_count": 11,
   "id": "57b35e0f-432e-4f13-9556-df9b36847af9",
   "metadata": {},
   "outputs": [],
   "source": [
    "p2m = p2.search(test_string)"
   ]
  },
  {
   "cell_type": "code",
   "execution_count": 12,
   "id": "94028153-8c41-403a-96d4-8bc5ee3671c7",
   "metadata": {},
   "outputs": [
    {
     "data": {
      "text/plain": [
       "<re.Match object; span=(11, 18), match='Botanic'>"
      ]
     },
     "execution_count": 12,
     "metadata": {},
     "output_type": "execute_result"
    }
   ],
   "source": [
    "p2m"
   ]
  },
  {
   "cell_type": "code",
   "execution_count": 13,
   "id": "436b1f05-198a-420c-8516-9c5441b0717b",
   "metadata": {},
   "outputs": [],
   "source": [
    "\n",
    "p3m = p3.search(test_string)"
   ]
  },
  {
   "cell_type": "code",
   "execution_count": 14,
   "id": "efa99788-1a83-4e92-9453-058c8c4ce6a8",
   "metadata": {},
   "outputs": [
    {
     "data": {
      "text/plain": [
       "<re.Match object; span=(0, 0), match=''>"
      ]
     },
     "execution_count": 14,
     "metadata": {},
     "output_type": "execute_result"
    }
   ],
   "source": [
    "p3m"
   ]
  },
  {
   "cell_type": "code",
   "execution_count": 15,
   "id": "f3a7fd79-4f89-4f92-b05d-b01b2c42124b",
   "metadata": {},
   "outputs": [],
   "source": [
    "#OCCID\n",
    "p_occid = re.compile(r'occid=(?P<occid>\\d+)')\n",
    "#(?P<name>...)\n",
    "occid_m = p_occid.search(test_string)"
   ]
  },
  {
   "cell_type": "code",
   "execution_count": 16,
   "id": "38d17ee5-b51b-4c5d-9f93-444bc1727fd0",
   "metadata": {},
   "outputs": [
    {
     "data": {
      "text/plain": [
       "'5564148'"
      ]
     },
     "execution_count": 16,
     "metadata": {},
     "output_type": "execute_result"
    }
   ],
   "source": [
    "occid_m.group('occid')"
   ]
  },
  {
   "cell_type": "code",
   "execution_count": 17,
   "id": "e1a04100-ac7b-484e-b1df-3463c8df379f",
   "metadata": {},
   "outputs": [],
   "source": [
    "# test non-match\n",
    "occid_m = p_occid.search('no occid KV pair here')"
   ]
  },
  {
   "cell_type": "code",
   "execution_count": 18,
   "id": "99d7fd46-b669-423c-bacb-74cc67963e95",
   "metadata": {},
   "outputs": [
    {
     "name": "stdout",
     "output_type": "stream",
     "text": [
      "None\n"
     ]
    }
   ],
   "source": [
    "print(occid_m)"
   ]
  },
  {
   "cell_type": "code",
   "execution_count": 33,
   "id": "e61225e2-035c-41e6-a85e-aaad486de9f1",
   "metadata": {},
   "outputs": [],
   "source": [
    "# RSA catalogNumber pattern\n",
    "rsa_catnum_pattern = re.compile(r'RSA\\d+')"
   ]
  },
  {
   "cell_type": "code",
   "execution_count": 34,
   "id": "fe890f1d-4090-471c-a675-b2e8af8f4595",
   "metadata": {},
   "outputs": [],
   "source": [
    "catNum_m = rsa_catnum_pattern.search(test_string)\n"
   ]
  },
  {
   "cell_type": "code",
   "execution_count": 37,
   "id": "60714957-7bc0-4ed2-986c-1b568b759e24",
   "metadata": {},
   "outputs": [
    {
     "name": "stdout",
     "output_type": "stream",
     "text": [
      "RSA2730\n"
     ]
    }
   ],
   "source": [
    "print(catNum_m[0])"
   ]
  },
  {
   "cell_type": "code",
   "execution_count": 36,
   "id": "b9a10b87-b531-4fb7-b5d2-03a91f42435b",
   "metadata": {},
   "outputs": [
    {
     "name": "stdout",
     "output_type": "stream",
     "text": [
      "California Botanic Garden: specimen RSA2730, https://www.cch2.org/portal/collections/individual/index.php?occid=5564148&clid=0\n"
     ]
    }
   ],
   "source": [
    "print(test_string)"
   ]
  },
  {
   "cell_type": "code",
   "execution_count": 3,
   "id": "03e26906-a352-4c11-83b6-4bc009ca7c59",
   "metadata": {},
   "outputs": [],
   "source": [
    "# RSA microscope slide\n",
    "# format: RSA-MICR-0000001\n",
    "test_micro_string = 'California Botanic Garden: specimen RSA-MICR-0000001, https://www.cch2.org/portal/collections/individual/index.php?occid=5564148&clid=0'\n",
    "rsa_catnum_micro_pattern = re.compile(r'RSA-MICR-\\d+')"
   ]
  },
  {
   "cell_type": "code",
   "execution_count": 5,
   "id": "47dce1ef-2e80-4c6e-aaea-086644812235",
   "metadata": {},
   "outputs": [],
   "source": [
    "catNum_micro_m = rsa_catnum_micro_pattern.search(test_micro_string)"
   ]
  },
  {
   "cell_type": "code",
   "execution_count": 9,
   "id": "d0f1f92f-57b2-40ff-be4b-9086974b70d2",
   "metadata": {},
   "outputs": [],
   "source": [
    "test_general_string = 'California Botanic Garden: specimen RSA0000001, https://www.cch2.org/portal/collections/individual/index.php?occid=5564148&clid=0'\n",
    "test_wood_string = 'California Botanic Garden: specimen RSAw0000001, https://www.cch2.org/portal/collections/individual/index.php?occid=5564148&clid=0'\n",
    "test_micro_string = 'California Botanic Garden: specimen RSA-MICR-0000001, https://www.cch2.org/portal/collections/individual/index.php?occid=5564148&clid=0'"
   ]
  },
  {
   "cell_type": "code",
   "execution_count": 10,
   "id": "23f23bbd-ac31-47ab-be9e-64eb7a8bc458",
   "metadata": {},
   "outputs": [],
   "source": [
    "# RSA ALL pattern text\n",
    "# RSAw?(?:-MICR-)?\\d+\n",
    "rsa_catnum_all_pattern = re.compile(r'RSAw?(?:-MICR-)?\\d+')\n",
    "catNum_general_m = rsa_catnum_all_pattern.search(test_general_string)\n",
    "catNum_wood_m = rsa_catnum_all_pattern.search(test_wood_string)\n",
    "catNum_micro_m = rsa_catnum_all_pattern.search(test_micro_string)"
   ]
  },
  {
   "cell_type": "code",
   "execution_count": 11,
   "id": "90d370bd-5e0e-4b19-9ec4-1306e7a98339",
   "metadata": {},
   "outputs": [
    {
     "name": "stdout",
     "output_type": "stream",
     "text": [
      "<re.Match object; span=(36, 46), match='RSA0000001'>\n",
      "<re.Match object; span=(36, 47), match='RSAw0000001'>\n",
      "<re.Match object; span=(36, 52), match='RSA-MICR-0000001'>\n"
     ]
    }
   ],
   "source": [
    "print(catNum_general_m)\n",
    "print(catNum_wood_m)\n",
    "print(catNum_micro_m)"
   ]
  },
  {
   "cell_type": "code",
   "execution_count": null,
   "id": "07b78500-08f6-445b-ae4c-06dd6dc7d093",
   "metadata": {},
   "outputs": [],
   "source": []
  }
 ],
 "metadata": {
  "kernelspec": {
   "display_name": "Python 3 (ipykernel)",
   "language": "python",
   "name": "python3"
  },
  "language_info": {
   "codemirror_mode": {
    "name": "ipython",
    "version": 3
   },
   "file_extension": ".py",
   "mimetype": "text/x-python",
   "name": "python",
   "nbconvert_exporter": "python",
   "pygments_lexer": "ipython3",
   "version": "3.11.2"
  }
 },
 "nbformat": 4,
 "nbformat_minor": 5
}
